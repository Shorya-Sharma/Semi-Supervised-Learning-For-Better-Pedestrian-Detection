{
 "nbformat": 4,
 "nbformat_minor": 0,
 "metadata": {
  "colab": {
   "name": "group project.ipynb",
   "provenance": [],
   "collapsed_sections": [],
   "toc_visible": true
  },
  "kernelspec": {
   "name": "python3",
   "display_name": "Python 3"
  },
  "accelerator": "GPU"
 },
 "cells": [
  {
   "cell_type": "code",
   "metadata": {
    "id": "T4haBN4JZywd"
   },
   "source": [
    "!git clone https://github.com/RanZhang-CR/PyTorch-YOLOv3.git"
   ],
   "execution_count": null,
   "outputs": []
  },
  {
   "cell_type": "code",
   "metadata": {
    "id": "GljP5XhjiTUo"
   },
   "source": [
    "from google.colab import drive\n",
    "drive.mount('/content/gdrive')"
   ],
   "execution_count": null,
   "outputs": []
  },
  {
   "cell_type": "code",
   "metadata": {
    "id": "I_SbjXkzhs5t"
   },
   "source": [
    "!sudo pip3 install -r PyTorch-YOLOv3/requirements.txt"
   ],
   "execution_count": null,
   "outputs": []
  },
  {
   "cell_type": "code",
   "metadata": {
    "id": "Yt4mu0KWh8_a"
   },
   "source": [
    "!bash PyTorch-YOLOv3/weights/download_weights.sh"
   ],
   "execution_count": null,
   "outputs": []
  },
  {
   "cell_type": "code",
   "metadata": {
    "id": "3faDu4W7alGm"
   },
   "source": [
    "!unzip /content/gdrive/MyDrive/images.zip -d /content/PyTorch-YOLOv3/data/custom"
   ],
   "execution_count": null,
   "outputs": []
  },
  {
   "cell_type": "code",
   "metadata": {
    "id": "XA6H1BlBaZUY"
   },
   "source": [
    "!tar xvf \"/content/gdrive/My Drive/FLIR_ADAS_1_3.tar.001\" -C \"/content/gdrive/My Drive/FLIR\"\n",
    "!tar xvf \"/content/gdrive/My Drive/FLIR_ADAS_1_3.tar.002\" -C \"/content/gdrive/My Drive/FLIR\"\n",
    "!tar xvf \"/content/gdrive/My Drive/FLIR_ADAS_1_3.tar.003\" -C \"/content/gdrive/My Drive/FLIR\"\n",
    "!tar xvf \"/content/gdrive/My Drive/FLIR_ADAS_1_3.tar.004\" -C \"/content/gdrive/My Drive/FLIR\""
   ],
   "execution_count": null,
   "outputs": []
  },
  {
   "cell_type": "code",
   "metadata": {
    "id": "1LjlMJiCBeBv",
    "colab": {
     "base_uri": "https://localhost:8080/"
    },
    "outputId": "39bfa5a0-ef24-4202-ccc6-eb6b8c4ba700"
   },
   "source": [
    "%cd PyTorch-YOLOv3"
   ],
   "execution_count": 5,
   "outputs": [
    {
     "output_type": "stream",
     "text": [
      "/content/PyTorch-YOLOv3\n"
     ],
     "name": "stdout"
    }
   ]
  },
  {
   "cell_type": "code",
   "metadata": {
    "id": "MDOY79mHBrkZ",
    "colab": {
     "base_uri": "https://localhost:8080/"
    },
    "outputId": "f8eb730b-3086-4ac0-f083-d254fbbba5e8"
   },
   "source": [
    "!pwd"
   ],
   "execution_count": 6,
   "outputs": [
    {
     "output_type": "stream",
     "text": [
      "/content/PyTorch-YOLOv3\n"
     ],
     "name": "stdout"
    }
   ]
  },
  {
   "cell_type": "code",
   "metadata": {
    "id": "Oxrzhzet-4kw"
   },
   "source": [
    "!python3 detect.py --image_folder /content/gdrive/My\\ Drive/FLIR/FLIR_ADAS_1_3/val/thermal_8_bit"
   ],
   "execution_count": null,
   "outputs": []
  },
  {
   "cell_type": "code",
   "metadata": {
    "id": "rXL5EMMwGfLf"
   },
   "source": [
    "!python3 detect.py --image_folder /content/gdrive/MyDrive/FLIR/FLIR_ADAS_1_3/valjpg/thermal_8_bit"
   ],
   "execution_count": null,
   "outputs": []
  },
  {
   "cell_type": "code",
   "metadata": {
    "id": "eq7BIkdcUl0X",
    "colab": {
     "base_uri": "https://localhost:8080/"
    },
    "outputId": "77b9bb8a-bdb8-4abc-a7f1-ce1946fd5f3d"
   },
   "source": [
    "%cd config\n",
    "!bash create_custom_model.sh 1"
   ],
   "execution_count": 7,
   "outputs": [
    {
     "output_type": "stream",
     "text": [
      "/content/PyTorch-YOLOv3/config\n"
     ],
     "name": "stdout"
    }
   ]
  },
  {
   "cell_type": "code",
   "metadata": {
    "id": "0bJj7K3TmbKT"
   },
   "source": [
    "%cd .."
   ],
   "execution_count": null,
   "outputs": []
  },
  {
   "cell_type": "code",
   "metadata": {
    "id": "IShTFf7Dr-VK"
   },
   "source": [
    "!python3 generate_anotations.py"
   ],
   "execution_count": null,
   "outputs": []
  },
  {
   "cell_type": "code",
   "metadata": {
    "id": "HM6RWnmVmIrc"
   },
   "source": [
    "with open(\"person_count.txt\",\"r\")as rf:\n",
    "  X = rf.read().splitlines()\n",
    "  sum = 0\n",
    "  for i in X:\n",
    "    ele = i.split(\"\\t\")\n",
    "    sum+=int(ele[1])\n",
    "  print(sum)"
   ],
   "execution_count": null,
   "outputs": []
  },
  {
   "cell_type": "code",
   "metadata": {
    "id": "5AZxQHwqARRL"
   },
   "source": [
    "!python3 score.py /content/gdrive/My\\ Drive/FLIR/FLIR_ADAS_1_3/val/thermal_annotations.json"
   ],
   "execution_count": null,
   "outputs": []
  },
  {
   "cell_type": "code",
   "metadata": {
    "id": "uMnyogntWcuW"
   },
   "source": [
    "# !python3 train.py --data_config /content/PyTorch-YOLOv3/config/flir.data  --pretrained_weights /content/PyTorch-YOLOv3/weights/darknet53.conv.74\n",
    "!python3 train.py --model_def config/yolov3-custom.cfg --data_config config/custom.data --pretrained_weights /content/PyTorch-YOLOv3/weights/darknet53.conv.74"
   ],
   "execution_count": null,
   "outputs": []
  }
 ]
}